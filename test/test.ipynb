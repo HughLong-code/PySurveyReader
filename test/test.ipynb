{
 "cells": [
  {
   "cell_type": "code",
   "execution_count": 11,
   "id": "f314e07d",
   "metadata": {},
   "outputs": [],
   "source": [
    "import surveyReader as sv"
   ]
  },
  {
   "cell_type": "code",
   "execution_count": 12,
   "id": "4cc4c4d2",
   "metadata": {},
   "outputs": [],
   "source": [
    "a = sv.SurveyReader(pathToFile=\"C:\\\\Users\\\\hal20a\\\\Documents\\\\ETL_Jobs\\\\QUALTRICS_API_ETL\\\\qualtrics_cred.json\" , surveyId='SV_3w6oKHFDfnKT4Zo' )"
   ]
  },
  {
   "cell_type": "code",
   "execution_count": 13,
   "id": "0c3ae379",
   "metadata": {},
   "outputs": [
    {
     "data": {
      "text/plain": [
       "<surveyReader.SurveyReader at 0x2681f40ed20>"
      ]
     },
     "execution_count": 13,
     "metadata": {},
     "output_type": "execute_result"
    }
   ],
   "source": [
    "a.read()"
   ]
  },
  {
   "cell_type": "code",
   "execution_count": 16,
   "id": "677353e4",
   "metadata": {},
   "outputs": [],
   "source": [
    "z = a.to_df(makeLong=True , fsuidColumn=True)"
   ]
  },
  {
   "cell_type": "code",
   "execution_count": 18,
   "id": "9626822a",
   "metadata": {},
   "outputs": [
    {
     "data": {
      "text/plain": [
       "{'question_text':                                         QUESTION_TEXT      Q_ID  IS_LABEL\n",
       " 0   In which sector(s) are you \\nconducting  your ...      QID6     False\n",
       " 0   Which of the following FSU resources have you ...     QID19      True\n",
       " 0   The following questions refer to what kinds of...  QID27_11      True\n",
       " 0   The following questions refer to what kinds of...   QID27_9      True\n",
       " 0   How would you rate your satisfaction with the ...   QID38_4     False\n",
       " ..                                                ...       ...       ...\n",
       " 0   Is the employment you have secured in an indus...      QID8     False\n",
       " 0   The following questions refer to academic info...   QID25_7      True\n",
       " 0   Please indicate whether each of the following ...  QID30_12     False\n",
       " 0                     50 States, D.C. and Puerto Rico     QID23     False\n",
       " 0   Please rate your sense of confidence about bei...   QID29_5     False\n",
       " \n",
       " [212 rows x 3 columns],\n",
       " 'responses':     QUESTION_RESPONSE  IS_LABEL QUESTION_ID        RESPONSE_ID\n",
       " 2                 NaN     False        QID6  R_695iWMqF6DptEzE\n",
       " 3                 NaN     False        QID6  R_1drIyEk2UY9e19E\n",
       " 4                 NaN     False        QID6  R_1K0I5jogqxefQHp\n",
       " 5                 NaN     False        QID6  R_57fsmTCAXmu8siB\n",
       " 6                 NaN     False        QID6  R_5kT6bNRFMsdBIpH\n",
       " ..                ...       ...         ...                ...\n",
       " 132                 3     False     QID29_5  R_6VqoFllFampuRsq\n",
       " 133                 2     False     QID29_5  R_70w7uJVJxgba5Jp\n",
       " 134               NaN     False     QID29_5  R_7peBiW24glCMynT\n",
       " 135                 3     False     QID29_5  R_5P5yd6Gj5WKvg27\n",
       " 136                 3     False     QID29_5  R_5v2qFdia1aohami\n",
       " \n",
       " [28620 rows x 4 columns],\n",
       " 'metadata':                STARTDATE              ENDDATE STATUS STATUS_LABEL  \\\n",
       " 0    2025-01-25 21:27:26  2025-01-26 17:27:52      0   IP Address   \n",
       " 1    2025-01-29 20:21:10  2025-01-29 20:29:28      0   IP Address   \n",
       " 2    2025-01-31 15:15:06  2025-01-31 15:25:43      0   IP Address   \n",
       " 3    2025-01-31 17:07:37  2025-01-31 17:10:26      0   IP Address   \n",
       " 4    2025-02-05 19:54:21  2025-02-05 19:57:59      0   IP Address   \n",
       " ..                   ...                  ...    ...          ...   \n",
       " 130  2025-04-28 12:14:55  2025-04-28 12:28:15      0   IP Address   \n",
       " 131  2025-04-28 18:10:59  2025-04-28 18:20:03      0   IP Address   \n",
       " 132  2025-04-28 19:51:50  2025-04-28 19:52:30      0   IP Address   \n",
       " 133  2025-04-28 22:15:14  2025-04-28 22:22:32      0   IP Address   \n",
       " 134  2025-04-29 17:20:06  2025-04-29 17:32:50      0   IP Address   \n",
       " \n",
       "            IPADDRESS PROGRESS DURATION (IN SECONDS) FINISHED FINISHED_LABEL  \\\n",
       " 0       68.63.23.178      100                 72025        1           True   \n",
       " 1     199.73.152.180      100                   498        1           True   \n",
       " 2       208.93.33.15      100                   637        1           True   \n",
       " 3      69.246.186.15      100                   168        1           True   \n",
       " 4    217.180.192.249      100                   218        1           True   \n",
       " ..               ...      ...                   ...      ...            ...   \n",
       " 130   73.133.135.195      100                   799        1           True   \n",
       " 131    172.59.70.154      100                   544        1           True   \n",
       " 132     68.35.229.76      100                    40        1           True   \n",
       " 133     75.145.71.21      100                   437        1           True   \n",
       " 134   144.174.214.38      100                   763        1           True   \n",
       " \n",
       "             RECORDEDDATE         RESPONSEID RECIPIENTLASTNAME  \\\n",
       " 0    2025-01-26 17:27:52  R_695iWMqF6DptEzE               NaN   \n",
       " 1    2025-01-29 20:29:29  R_1drIyEk2UY9e19E               NaN   \n",
       " 2    2025-01-31 15:25:44  R_1K0I5jogqxefQHp               NaN   \n",
       " 3    2025-01-31 17:10:26  R_57fsmTCAXmu8siB               NaN   \n",
       " 4    2025-02-05 19:57:59  R_5kT6bNRFMsdBIpH               NaN   \n",
       " ..                   ...                ...               ...   \n",
       " 130  2025-04-28 12:28:16  R_6VqoFllFampuRsq               NaN   \n",
       " 131  2025-04-28 18:20:04  R_70w7uJVJxgba5Jp               NaN   \n",
       " 132  2025-04-28 19:52:31  R_7peBiW24glCMynT               NaN   \n",
       " 133  2025-04-28 22:22:33  R_5P5yd6Gj5WKvg27               NaN   \n",
       " 134  2025-04-29 17:32:51  R_5v2qFdia1aohami               NaN   \n",
       " \n",
       "     RECIPIENTFIRSTNAME RECIPIENTEMAIL EXTERNALREFERENCE LOCATIONLATITUDE  \\\n",
       " 0                  NaN            NaN               NaN          30.4805   \n",
       " 1                  NaN            NaN               NaN          30.4805   \n",
       " 2                  NaN            NaN               NaN          34.2849   \n",
       " 3                  NaN            NaN               NaN          30.4908   \n",
       " 4                  NaN            NaN               NaN          30.4908   \n",
       " ..                 ...            ...               ...              ...   \n",
       " 130                NaN            NaN               NaN           39.037   \n",
       " 131                NaN            NaN               NaN          30.2183   \n",
       " 132                NaN            NaN               NaN          30.4908   \n",
       " 133                NaN            NaN               NaN          44.9036   \n",
       " 134                NaN            NaN               NaN          30.4566   \n",
       " \n",
       "     LOCATIONLONGITUDE DISTRIBUTIONCHANNEL USERLANGUAGE   FSUID  \n",
       " 0            -84.2243           anonymous           EN   ab10x  \n",
       " 1            -84.2243           anonymous           EN   gdf09  \n",
       " 2            -85.2253           anonymous           EN   vjs12  \n",
       " 3            -84.3158           anonymous           EN  smh21a  \n",
       " 4            -84.3158           anonymous           EN  tm20dw  \n",
       " ..                ...                 ...          ...     ...  \n",
       " 130          -77.0412           anonymous           EN  tbd19a  \n",
       " 131          -81.5621           anonymous           EN   rj19e  \n",
       " 132          -84.3158           anonymous           EN   rsl22  \n",
       " 133         -123.0461           anonymous           EN   hz21c  \n",
       " 134          -84.3223           anonymous           EN  msw17c  \n",
       " \n",
       " [135 rows x 20 columns]}"
      ]
     },
     "execution_count": 18,
     "metadata": {},
     "output_type": "execute_result"
    }
   ],
   "source": [
    "z['Spring 2025 Doctoral Exit Survey.csv']"
   ]
  }
 ],
 "metadata": {
  "kernelspec": {
   "display_name": ".venv",
   "language": "python",
   "name": "python3"
  },
  "language_info": {
   "codemirror_mode": {
    "name": "ipython",
    "version": 3
   },
   "file_extension": ".py",
   "mimetype": "text/x-python",
   "name": "python",
   "nbconvert_exporter": "python",
   "pygments_lexer": "ipython3",
   "version": "3.12.10"
  }
 },
 "nbformat": 4,
 "nbformat_minor": 5
}
