{
 "cells": [
  {
   "cell_type": "code",
   "execution_count": 11,
   "id": "f314e07d",
   "metadata": {},
   "outputs": [],
   "source": [
    "import surveyReader as sv"
   ]
  },
  {
   "cell_type": "code",
   "execution_count": null,
   "id": "4cc4c4d2",
   "metadata": {},
   "outputs": [],
   "source": [
    "a = sv.SurveyReader( )"
   ]
  },
  {
   "cell_type": "code",
   "execution_count": 13,
   "id": "0c3ae379",
   "metadata": {},
   "outputs": [
    {
     "data": {
      "text/plain": [
       "<surveyReader.SurveyReader at 0x2681f40ed20>"
      ]
     },
     "execution_count": 13,
     "metadata": {},
     "output_type": "execute_result"
    }
   ],
   "source": [
    "a.read()"
   ]
  },
  {
   "cell_type": "code",
   "execution_count": 16,
   "id": "677353e4",
   "metadata": {},
   "outputs": [],
   "source": [
    "z = a.to_df(makeLong=True , fsuidColumn=True)"
   ]
  },
  {
   "cell_type": "code",
   "execution_count": 21,
   "id": "9626822a",
   "metadata": {},
   "outputs": [
    {
     "data": {
      "application/vnd.microsoft.datawrangler.viewer.v0+json": {
       "columns": [
        {
         "name": "index",
         "rawType": "int64",
         "type": "integer"
        },
        {
         "name": "QUESTION_RESPONSE",
         "rawType": "object",
         "type": "unknown"
        },
        {
         "name": "IS_LABEL",
         "rawType": "bool",
         "type": "boolean"
        },
        {
         "name": "QUESTION_ID",
         "rawType": "object",
         "type": "string"
        },
        {
         "name": "RESPONSE_ID",
         "rawType": "object",
         "type": "string"
        }
       ],
       "conversionMethod": "pd.DataFrame",
       "ref": "4020f3a9-00d5-4d7a-a66a-1ee27a3dbfc2",
       "rows": [
        [
         "2",
         null,
         "False",
         "QID6",
         "R_695iWMqF6DptEzE"
        ],
        [
         "3",
         null,
         "False",
         "QID6",
         "R_1drIyEk2UY9e19E"
        ],
        [
         "4",
         null,
         "False",
         "QID6",
         "R_1K0I5jogqxefQHp"
        ],
        [
         "5",
         null,
         "False",
         "QID6",
         "R_57fsmTCAXmu8siB"
        ],
        [
         "6",
         null,
         "False",
         "QID6",
         "R_5kT6bNRFMsdBIpH"
        ],
        [
         "7",
         "1",
         "False",
         "QID6",
         "R_6l10OstEi2XNxaV"
        ],
        [
         "8",
         null,
         "False",
         "QID6",
         "R_73s8UQl15IETllk"
        ],
        [
         "9",
         null,
         "False",
         "QID6",
         "R_6IilYZcVTWWveAQ"
        ],
        [
         "10",
         null,
         "False",
         "QID6",
         "R_7tidk28b2t4kMiZ"
        ],
        [
         "11",
         null,
         "False",
         "QID6",
         "R_75XYq2AEYlBPFCu"
        ],
        [
         "12",
         null,
         "False",
         "QID6",
         "R_1Ytsc2TMpB7qHDP"
        ],
        [
         "13",
         null,
         "False",
         "QID6",
         "R_6rGGOe1CIkSsF9r"
        ],
        [
         "14",
         null,
         "False",
         "QID6",
         "R_5O1RpKz0oyoO658"
        ],
        [
         "15",
         null,
         "False",
         "QID6",
         "R_5O6sFDUwkEaDVH6"
        ],
        [
         "16",
         null,
         "False",
         "QID6",
         "R_5HmwUE4o9V2i4QV"
        ],
        [
         "17",
         null,
         "False",
         "QID6",
         "R_79DB8nUeThOGgEN"
        ],
        [
         "18",
         null,
         "False",
         "QID6",
         "R_3gCrTKvSJWbJ9s4"
        ],
        [
         "19",
         null,
         "False",
         "QID6",
         "R_5CbBstjCIfZxQwp"
        ],
        [
         "20",
         null,
         "False",
         "QID6",
         "R_6PWUlobZ9L9TihO"
        ],
        [
         "21",
         null,
         "False",
         "QID6",
         "R_3rrxftzUCjBfk8F"
        ],
        [
         "22",
         null,
         "False",
         "QID6",
         "R_18c5SsdxaxEEkBH"
        ],
        [
         "23",
         null,
         "False",
         "QID6",
         "R_5OXSF5aIwPhDl7j"
        ],
        [
         "24",
         null,
         "False",
         "QID6",
         "R_5ILorU1zMFtsGLT"
        ],
        [
         "25",
         null,
         "False",
         "QID6",
         "R_5RmRaIdw6ynrptD"
        ],
        [
         "26",
         "1",
         "False",
         "QID6",
         "R_5kLnHhXuHTDORCt"
        ],
        [
         "27",
         null,
         "False",
         "QID6",
         "R_17KUuAIV5vBZDfb"
        ],
        [
         "28",
         null,
         "False",
         "QID6",
         "R_7PvkCGGyXZ53YJP"
        ],
        [
         "29",
         null,
         "False",
         "QID6",
         "R_6njCw0oQu61DqDF"
        ],
        [
         "30",
         null,
         "False",
         "QID6",
         "R_5mf6pzqgCJXZJMq"
        ],
        [
         "31",
         null,
         "False",
         "QID6",
         "R_5axIQQFCOtNZXj3"
        ],
        [
         "32",
         null,
         "False",
         "QID6",
         "R_6063bJIya1sZ0uz"
        ],
        [
         "33",
         null,
         "False",
         "QID6",
         "R_1friHtvHGgdJyS2"
        ],
        [
         "34",
         null,
         "False",
         "QID6",
         "R_5I6SK4rbJyyPhrv"
        ],
        [
         "35",
         null,
         "False",
         "QID6",
         "R_1vqcZDJLxtyfDBT"
        ],
        [
         "36",
         null,
         "False",
         "QID6",
         "R_1qh3y3dT2YzABVZ"
        ],
        [
         "37",
         null,
         "False",
         "QID6",
         "R_7sS8GmfLJouJHRa"
        ],
        [
         "38",
         null,
         "False",
         "QID6",
         "R_63DWGjeZgAUhVB2"
        ],
        [
         "39",
         null,
         "False",
         "QID6",
         "R_79iZQYFTiTNcah0"
        ],
        [
         "40",
         null,
         "False",
         "QID6",
         "R_5IYHPmUP7tTSL4Y"
        ],
        [
         "41",
         null,
         "False",
         "QID6",
         "R_5rjtehELUUp8elG"
        ],
        [
         "42",
         null,
         "False",
         "QID6",
         "R_1dgLsInFDlLe1YE"
        ],
        [
         "43",
         null,
         "False",
         "QID6",
         "R_71gJQU0ADSFeT9T"
        ],
        [
         "44",
         null,
         "False",
         "QID6",
         "R_5mjbqv4xupPzyp3"
        ],
        [
         "45",
         null,
         "False",
         "QID6",
         "R_39gXMpsRnZtDUz9"
        ],
        [
         "46",
         null,
         "False",
         "QID6",
         "R_3gnmM2dUAfNU4dT"
        ],
        [
         "47",
         null,
         "False",
         "QID6",
         "R_6d6rgBPXbgIWsA1"
        ],
        [
         "48",
         null,
         "False",
         "QID6",
         "R_342VAYXBepwlHb3"
        ],
        [
         "49",
         null,
         "False",
         "QID6",
         "R_6hm0Y4dnUYQZR5L"
        ],
        [
         "50",
         null,
         "False",
         "QID6",
         "R_1YbNJCeFVrpmC1O"
        ],
        [
         "51",
         null,
         "False",
         "QID6",
         "R_1c8pWYRtReg6cPT"
        ]
       ],
       "shape": {
        "columns": 4,
        "rows": 28620
       }
      },
      "text/html": [
       "<div>\n",
       "<style scoped>\n",
       "    .dataframe tbody tr th:only-of-type {\n",
       "        vertical-align: middle;\n",
       "    }\n",
       "\n",
       "    .dataframe tbody tr th {\n",
       "        vertical-align: top;\n",
       "    }\n",
       "\n",
       "    .dataframe thead th {\n",
       "        text-align: right;\n",
       "    }\n",
       "</style>\n",
       "<table border=\"1\" class=\"dataframe\">\n",
       "  <thead>\n",
       "    <tr style=\"text-align: right;\">\n",
       "      <th></th>\n",
       "      <th>QUESTION_RESPONSE</th>\n",
       "      <th>IS_LABEL</th>\n",
       "      <th>QUESTION_ID</th>\n",
       "      <th>RESPONSE_ID</th>\n",
       "    </tr>\n",
       "  </thead>\n",
       "  <tbody>\n",
       "    <tr>\n",
       "      <th>2</th>\n",
       "      <td>NaN</td>\n",
       "      <td>False</td>\n",
       "      <td>QID6</td>\n",
       "      <td>R_695iWMqF6DptEzE</td>\n",
       "    </tr>\n",
       "    <tr>\n",
       "      <th>3</th>\n",
       "      <td>NaN</td>\n",
       "      <td>False</td>\n",
       "      <td>QID6</td>\n",
       "      <td>R_1drIyEk2UY9e19E</td>\n",
       "    </tr>\n",
       "    <tr>\n",
       "      <th>4</th>\n",
       "      <td>NaN</td>\n",
       "      <td>False</td>\n",
       "      <td>QID6</td>\n",
       "      <td>R_1K0I5jogqxefQHp</td>\n",
       "    </tr>\n",
       "    <tr>\n",
       "      <th>5</th>\n",
       "      <td>NaN</td>\n",
       "      <td>False</td>\n",
       "      <td>QID6</td>\n",
       "      <td>R_57fsmTCAXmu8siB</td>\n",
       "    </tr>\n",
       "    <tr>\n",
       "      <th>6</th>\n",
       "      <td>NaN</td>\n",
       "      <td>False</td>\n",
       "      <td>QID6</td>\n",
       "      <td>R_5kT6bNRFMsdBIpH</td>\n",
       "    </tr>\n",
       "    <tr>\n",
       "      <th>...</th>\n",
       "      <td>...</td>\n",
       "      <td>...</td>\n",
       "      <td>...</td>\n",
       "      <td>...</td>\n",
       "    </tr>\n",
       "    <tr>\n",
       "      <th>132</th>\n",
       "      <td>3</td>\n",
       "      <td>False</td>\n",
       "      <td>QID29_5</td>\n",
       "      <td>R_6VqoFllFampuRsq</td>\n",
       "    </tr>\n",
       "    <tr>\n",
       "      <th>133</th>\n",
       "      <td>2</td>\n",
       "      <td>False</td>\n",
       "      <td>QID29_5</td>\n",
       "      <td>R_70w7uJVJxgba5Jp</td>\n",
       "    </tr>\n",
       "    <tr>\n",
       "      <th>134</th>\n",
       "      <td>NaN</td>\n",
       "      <td>False</td>\n",
       "      <td>QID29_5</td>\n",
       "      <td>R_7peBiW24glCMynT</td>\n",
       "    </tr>\n",
       "    <tr>\n",
       "      <th>135</th>\n",
       "      <td>3</td>\n",
       "      <td>False</td>\n",
       "      <td>QID29_5</td>\n",
       "      <td>R_5P5yd6Gj5WKvg27</td>\n",
       "    </tr>\n",
       "    <tr>\n",
       "      <th>136</th>\n",
       "      <td>3</td>\n",
       "      <td>False</td>\n",
       "      <td>QID29_5</td>\n",
       "      <td>R_5v2qFdia1aohami</td>\n",
       "    </tr>\n",
       "  </tbody>\n",
       "</table>\n",
       "<p>28620 rows × 4 columns</p>\n",
       "</div>"
      ],
      "text/plain": [
       "    QUESTION_RESPONSE  IS_LABEL QUESTION_ID        RESPONSE_ID\n",
       "2                 NaN     False        QID6  R_695iWMqF6DptEzE\n",
       "3                 NaN     False        QID6  R_1drIyEk2UY9e19E\n",
       "4                 NaN     False        QID6  R_1K0I5jogqxefQHp\n",
       "5                 NaN     False        QID6  R_57fsmTCAXmu8siB\n",
       "6                 NaN     False        QID6  R_5kT6bNRFMsdBIpH\n",
       "..                ...       ...         ...                ...\n",
       "132                 3     False     QID29_5  R_6VqoFllFampuRsq\n",
       "133                 2     False     QID29_5  R_70w7uJVJxgba5Jp\n",
       "134               NaN     False     QID29_5  R_7peBiW24glCMynT\n",
       "135                 3     False     QID29_5  R_5P5yd6Gj5WKvg27\n",
       "136                 3     False     QID29_5  R_5v2qFdia1aohami\n",
       "\n",
       "[28620 rows x 4 columns]"
      ]
     },
     "execution_count": 21,
     "metadata": {},
     "output_type": "execute_result"
    }
   ],
   "source": [
    "z['Spring 2025 Doctoral Exit Survey.csv']['responses']"
   ]
  }
 ],
 "metadata": {
  "kernelspec": {
   "display_name": ".venv",
   "language": "python",
   "name": "python3"
  },
  "language_info": {
   "codemirror_mode": {
    "name": "ipython",
    "version": 3
   },
   "file_extension": ".py",
   "mimetype": "text/x-python",
   "name": "python",
   "nbconvert_exporter": "python",
   "pygments_lexer": "ipython3",
   "version": "3.12.10"
  }
 },
 "nbformat": 4,
 "nbformat_minor": 5
}
